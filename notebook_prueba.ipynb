{
 "cells": [
  {
   "cell_type": "code",
   "execution_count": null,
   "id": "2111375b",
   "metadata": {},
   "outputs": [],
   "source": [
    "import numpy as np\n",
    "\n",
    "a = np.zeros(1000)"
   ]
  },
  {
   "cell_type": "code",
   "execution_count": null,
   "id": "38d70dcd",
   "metadata": {},
   "outputs": [],
   "source": [
    "a +2 "
   ]
  },
  {
   "cell_type": "code",
   "execution_count": null,
   "id": "200d2769",
   "metadata": {},
   "outputs": [],
   "source": [
    "#vacio"
   ]
  },
  {
   "cell_type": "markdown",
   "id": "9bb043bd",
   "metadata": {},
   "source": [
    "Y este es el ejercicio 1"
   ]
  },
  {
   "cell_type": "code",
   "execution_count": null,
   "id": "31c87ded",
   "metadata": {},
   "outputs": [],
   "source": [
    "def funcion():\n",
    "    pass\n",
    "def funcion2():\n",
    "    pass"
   ]
  },
  {
   "cell_type": "code",
   "execution_count": null,
   "id": "4bf086cd",
   "metadata": {},
   "outputs": [],
   "source": [
    "a +1"
   ]
  },
  {
   "cell_type": "markdown",
   "id": "14c5d69c",
   "metadata": {},
   "source": [
    "hola hola hola hola hola"
   ]
  }
 ],
 "metadata": {
  "language_info": {
   "name": "python"
  }
 },
 "nbformat": 4,
 "nbformat_minor": 5
}
